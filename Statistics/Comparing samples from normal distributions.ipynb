{
 "cells": [
  {
   "cell_type": "markdown",
   "id": "a693bfce",
   "metadata": {},
   "source": [
    "# Comparing samples from normal distributions\n",
    "authors: Maja H Kirkeby, Bernardo Santos, and João P. Fernandes\n",
    "\n",
    "In this notebook we aim to show \n",
    "- whether or not there is a significant difference between two or more samples using the ANOVA individual test, and \n",
    "- in case there is a significant difference, we want to show whether the difference is positive or negative and whether it is considered large or not using Cohen's D and Hedge's G tests. \n",
    "\n",
    "*This requires (1) removing outliers, and (2) testing all the assumptions of the ANOVA tests.*"
   ]
  },
  {
   "cell_type": "code",
   "execution_count": 1,
   "id": "5a52cfb0",
   "metadata": {},
   "outputs": [],
   "source": [
    "import pandas as pd\n",
    "import numpy as np\n",
    "import scipy.stats as stats\n",
    "import seaborn as sns\n",
    "import matplotlib.pyplot as plt\n",
    "import math \n",
    "import random"
   ]
  },
  {
   "cell_type": "code",
   "execution_count": 2,
   "id": "f5efe1e1",
   "metadata": {},
   "outputs": [],
   "source": [
    "# import your file into a Pandas dataframe \n",
    "file_name = 'C.csv'\n",
    "df = pd.read_csv(file_name, header = 0, delimiter=\",\", decimal=\".\", names=['test','PKG','CPU','nn','nn2','time'])"
   ]
  },
  {
   "cell_type": "code",
   "execution_count": 3,
   "id": "5f80e343",
   "metadata": {},
   "outputs": [
    {
     "data": {
      "text/html": [
       "<div>\n",
       "<style scoped>\n",
       "    .dataframe tbody tr th:only-of-type {\n",
       "        vertical-align: middle;\n",
       "    }\n",
       "\n",
       "    .dataframe tbody tr th {\n",
       "        vertical-align: top;\n",
       "    }\n",
       "\n",
       "    .dataframe thead th {\n",
       "        text-align: right;\n",
       "    }\n",
       "</style>\n",
       "<table border=\"1\" class=\"dataframe\">\n",
       "  <thead>\n",
       "    <tr style=\"text-align: right;\">\n",
       "      <th></th>\n",
       "      <th>test</th>\n",
       "      <th>PKG</th>\n",
       "      <th>CPU</th>\n",
       "      <th>nn</th>\n",
       "      <th>nn2</th>\n",
       "      <th>time</th>\n",
       "    </tr>\n",
       "  </thead>\n",
       "  <tbody>\n",
       "    <tr>\n",
       "      <th>0</th>\n",
       "      <td>bubblesort</td>\n",
       "      <td>0.013184</td>\n",
       "      <td>0.010925</td>\n",
       "      <td></td>\n",
       "      <td></td>\n",
       "      <td>3.069</td>\n",
       "    </tr>\n",
       "    <tr>\n",
       "      <th>1</th>\n",
       "      <td>bubblesort</td>\n",
       "      <td>0.015198</td>\n",
       "      <td>0.009399</td>\n",
       "      <td></td>\n",
       "      <td></td>\n",
       "      <td>2.617</td>\n",
       "    </tr>\n",
       "    <tr>\n",
       "      <th>2</th>\n",
       "      <td>bubblesort</td>\n",
       "      <td>0.010559</td>\n",
       "      <td>0.009583</td>\n",
       "      <td></td>\n",
       "      <td></td>\n",
       "      <td>2.572</td>\n",
       "    </tr>\n",
       "    <tr>\n",
       "      <th>3</th>\n",
       "      <td>bubblesort</td>\n",
       "      <td>0.009949</td>\n",
       "      <td>0.009949</td>\n",
       "      <td></td>\n",
       "      <td></td>\n",
       "      <td>2.671</td>\n",
       "    </tr>\n",
       "    <tr>\n",
       "      <th>4</th>\n",
       "      <td>bubblesort</td>\n",
       "      <td>0.015381</td>\n",
       "      <td>0.010010</td>\n",
       "      <td></td>\n",
       "      <td></td>\n",
       "      <td>2.684</td>\n",
       "    </tr>\n",
       "    <tr>\n",
       "      <th>...</th>\n",
       "      <td>...</td>\n",
       "      <td>...</td>\n",
       "      <td>...</td>\n",
       "      <td>...</td>\n",
       "      <td>...</td>\n",
       "      <td>...</td>\n",
       "    </tr>\n",
       "    <tr>\n",
       "      <th>1435</th>\n",
       "      <td>bubblesort_ll</td>\n",
       "      <td>0.013184</td>\n",
       "      <td>0.014038</td>\n",
       "      <td></td>\n",
       "      <td></td>\n",
       "      <td>2.394</td>\n",
       "    </tr>\n",
       "    <tr>\n",
       "      <th>1436</th>\n",
       "      <td>bubblesort_ll</td>\n",
       "      <td>0.021362</td>\n",
       "      <td>0.014343</td>\n",
       "      <td></td>\n",
       "      <td></td>\n",
       "      <td>2.428</td>\n",
       "    </tr>\n",
       "    <tr>\n",
       "      <th>1437</th>\n",
       "      <td>bubblesort_ll</td>\n",
       "      <td>0.013672</td>\n",
       "      <td>0.014221</td>\n",
       "      <td></td>\n",
       "      <td></td>\n",
       "      <td>2.479</td>\n",
       "    </tr>\n",
       "    <tr>\n",
       "      <th>1438</th>\n",
       "      <td>bubblesort_ll</td>\n",
       "      <td>0.019531</td>\n",
       "      <td>0.014526</td>\n",
       "      <td></td>\n",
       "      <td></td>\n",
       "      <td>2.537</td>\n",
       "    </tr>\n",
       "    <tr>\n",
       "      <th>1439</th>\n",
       "      <td>bubblesort_ll</td>\n",
       "      <td>0.013428</td>\n",
       "      <td>0.013611</td>\n",
       "      <td></td>\n",
       "      <td></td>\n",
       "      <td>2.483</td>\n",
       "    </tr>\n",
       "  </tbody>\n",
       "</table>\n",
       "<p>1440 rows × 6 columns</p>\n",
       "</div>"
      ],
      "text/plain": [
       "                test       PKG       CPU  nn nn2   time\n",
       "0        bubblesort   0.013184  0.010925          3.069\n",
       "1        bubblesort   0.015198  0.009399          2.617\n",
       "2        bubblesort   0.010559  0.009583          2.572\n",
       "3        bubblesort   0.009949  0.009949          2.671\n",
       "4        bubblesort   0.015381  0.010010          2.684\n",
       "...              ...       ...       ...  ..  ..    ...\n",
       "1435  bubblesort_ll   0.013184  0.014038          2.394\n",
       "1436  bubblesort_ll   0.021362  0.014343          2.428\n",
       "1437  bubblesort_ll   0.013672  0.014221          2.479\n",
       "1438  bubblesort_ll   0.019531  0.014526          2.537\n",
       "1439  bubblesort_ll   0.013428  0.013611          2.483\n",
       "\n",
       "[1440 rows x 6 columns]"
      ]
     },
     "execution_count": 3,
     "metadata": {},
     "output_type": "execute_result"
    }
   ],
   "source": [
    "df"
   ]
  },
  {
   "cell_type": "code",
   "execution_count": 4,
   "id": "5e182e6b",
   "metadata": {},
   "outputs": [
    {
     "data": {
      "text/plain": [
       "<AxesSubplot:xlabel='CPU', ylabel='time'>"
      ]
     },
     "execution_count": 4,
     "metadata": {},
     "output_type": "execute_result"
    },
    {
     "data": {
      "image/png": "[encoded data removed]",
      "text/plain": [
       "<Figure size 432x288 with 1 Axes>"
      ]
     },
     "metadata": {
      "needs_background": "light"
     },
     "output_type": "display_data"
    }
   ],
   "source": [
    "sns.scatterplot(data=df,hue='test',x='CPU', y='time')"
   ]
  },
  {
   "cell_type": "code",
   "execution_count": 5,
   "id": "490fba50",
   "metadata": {},
   "outputs": [
    {
     "data": {
      "text/plain": [
       "<AxesSubplot:xlabel='CPU', ylabel='Count'>"
      ]
     },
     "execution_count": 5,
     "metadata": {},
     "output_type": "execute_result"
    },
    {
     "data": {
      "image/png": "[encoded data removed]",
      "text/plain": [
       "<Figure size 432x288 with 1 Axes>"
      ]
     },
     "metadata": {
      "needs_background": "light"
     },
     "output_type": "display_data"
    }
   ],
   "source": [
    "sns.histplot(data=df,hue='test',x='CPU')\n",
    "sns.kdeplot(data=df,hue='test',x='CPU')"
   ]
  },
  {
   "cell_type": "markdown",
   "id": "2c193048",
   "metadata": {},
   "source": [
    "# Normal distribution test\n",
    "https://machinelearningmastery.com/statistical-hypothesis-tests-in-python-cheat-sheet/"
   ]
  },
  {
   "cell_type": "code",
   "execution_count": 7,
   "id": "a17983c7",
   "metadata": {},
   "outputs": [],
   "source": [
    "# create a subset of your data\n",
    "# define the data source and how to separate the data\n",
    "data = df\n",
    "data_column = 'CPU'         # The column name with the data that we want to compare\n",
    "types_column_name = 'test'  # The column name with the data in it\n",
    "typeA = 'bubblesort_ll2 '  # The category of data A\n",
    "typeB = 'bubblesort_func '       # The category of data B\n",
    "typeC = 'bubblesort_ll '       # The category of data C\n",
    "typeD = 'bubblesort '\n",
    "\n",
    "#repetitions_of_random_sampling = 10000\n",
    "\n",
    "# create a new dataframe with the interesting subset \n",
    "df_sampleA = data[(data[types_column_name]==typeA)][data_column]\n",
    "df_sampleB = data[(data[types_column_name]==typeB)][data_column]\n",
    "df_sampleC = data[(data[types_column_name]==typeC)][data_column]\n",
    "df_sampleD = data[(data[types_column_name]==typeD)][data_column]\n",
    "\n",
    "\n",
    "# create a new dataframe with the interesting subset \n",
    "sampleA = list(df_sampleA)\n",
    "sampleB = list(df_sampleB)\n",
    "sampleC = list(df_sampleC)\n",
    "sampleD = list(df_sampleD)\n"
   ]
  },
  {
   "cell_type": "markdown",
   "id": "14cd9591",
   "metadata": {},
   "source": [
    "# Removing outliers"
   ]
  },
  {
   "cell_type": "code",
   "execution_count": 8,
   "id": "ddaf70cc",
   "metadata": {},
   "outputs": [
    {
     "name": "stdout",
     "output_type": "stream",
     "text": [
      "number of outliers: 5 of 360 observations.\n",
      "number of outliers: 6 of 360 observations.\n",
      "number of outliers: 2 of 360 observations.\n",
      "number of outliers: 0 of 360 observations.\n"
     ]
    },
    {
     "data": {
      "image/png": "[encoded data removed]",
      "text/plain": [
       "<Figure size 432x288 with 1 Axes>"
      ]
     },
     "metadata": {
      "needs_background": "light"
     },
     "output_type": "display_data"
    },
    {
     "data": {
      "image/png": "[encoded data removed]",
      "text/plain": [
       "<Figure size 432x288 with 1 Axes>"
      ]
     },
     "metadata": {
      "needs_background": "light"
     },
     "output_type": "display_data"
    }
   ],
   "source": [
    "# Remove outliers from the initial data (per sample) \n",
    "# use quantile outliers when we do not have normal distributed data\n",
    "def remove_outliers_quantile(data_series):\n",
    "    data = data_series\n",
    "    q75, q25 = data.quantile(q=0.75),data.quantile(q=0.25) # np.percentile(data.loc[:,data_column],[75,25])\n",
    "    intr_qr = q75 - q25\n",
    "\n",
    "    max = q75 + (1.5 * intr_qr)\n",
    "    min = q25 - (1.5 * intr_qr)\n",
    "\n",
    "    count_total = len(data)\n",
    "\n",
    "    data = data[(data > min) & (data < max)]\n",
    "    count_wo_outliers = len(data)\n",
    "\n",
    "    outliers_count = count_total - count_wo_outliers\n",
    "    print(f'number of outliers: {outliers_count} of {count_total} observations.')\n",
    "    \n",
    "    # remove outliers\n",
    "    return data\n",
    "\n",
    "df_sampleA = remove_outliers_quantile(df_sampleA)\n",
    "df_sampleB = remove_outliers_quantile(df_sampleB)\n",
    "df_sampleC = remove_outliers_quantile(df_sampleC)\n",
    "df_sampleD = remove_outliers_quantile(df_sampleD)\n",
    "\n",
    "# plot \n",
    "sns.histplot(data=data[(data[types_column_name]==typeA)][data_column]).set(title='Original Data',xlim=(0.015,0.021))\n",
    "plt.show()\n",
    "sns.histplot(data=df_sampleA).set(title='Data without Outliers',xlim=(0.015,0.021))\n",
    "plt.show()"
   ]
  },
  {
   "cell_type": "markdown",
   "id": "d55021f1",
   "metadata": {},
   "source": [
    "## Shapiro-Wilk Test\n",
    "Tests whether a data sample has a Gaussian distribution.\n",
    "\n",
    "**Assumptions:**\n",
    "Observations in each sample are independent and identically distributed (iid).\n",
    "\n",
    "**Interpretation:**\n",
    "- H0: the sample has a Gaussian distribution.\n",
    "- H1: the sample does not have a Gaussian distribution."
   ]
  },
  {
   "cell_type": "code",
   "execution_count": 12,
   "id": "4204d4a5",
   "metadata": {},
   "outputs": [
    {
     "name": "stdout",
     "output_type": "stream",
     "text": [
      "stat=0.995, p=0.269\n",
      "Probably Gaussian\n"
     ]
    }
   ],
   "source": [
    "# Example of the Shapiro-Wilk Normality Test\n",
    "from scipy.stats import shapiro\n",
    "#data = sampleA\n",
    "#data = sampleB\n",
    "data = sampleC\n",
    "#data = sampleD\n",
    "#data = [0.873, 2.817, 0.121, -0.945, -0.055, -1.436, 0.360, -1.478, -1.637, -1.869]\n",
    "stat, p = shapiro(data)\n",
    "print('stat=%.3f, p=%.3f' % (stat, p))\n",
    "if p > 0.05:\n",
    "\tprint('Probably Gaussian')\n",
    "else:\n",
    "\tprint('Probably not Gaussian')"
   ]
  },
  {
   "cell_type": "markdown",
   "id": "b4dced84",
   "metadata": {},
   "source": [
    "## D’Agostino’s K^2 Test\n",
    "Tests whether a data sample has a Gaussian distribution.\n",
    "\n",
    "**Assumptions**:\n",
    "Observations in each sample are independent and identically distributed (iid).\n",
    "\n",
    "**Interpretation:**\n",
    "- H0: the sample has a Gaussian distribution.\n",
    "- H1: the sample does not have a Gaussian distribution"
   ]
  },
  {
   "cell_type": "code",
   "execution_count": 14,
   "id": "bf2cb50b",
   "metadata": {},
   "outputs": [
    {
     "name": "stdout",
     "output_type": "stream",
     "text": [
      "stat=2.779, p=0.249\n",
      "Probably Gaussian\n"
     ]
    }
   ],
   "source": [
    "# Example of the D'Agostino's K^2 Normality Test\n",
    "from scipy.stats import normaltest\n",
    "#data = [0.873, 2.817, 0.121, -0.945, -0.055, -1.436, 0.360, -1.478, -1.637, -1.869]\n",
    "data = sampleD\n",
    "stat, p = normaltest(data)\n",
    "print('stat=%.3f, p=%.3f' % (stat, p))\n",
    "if p > 0.05:\n",
    "\tprint('Probably Gaussian')\n",
    "else:\n",
    "\tprint('Probably not Gaussian')"
   ]
  },
  {
   "cell_type": "markdown",
   "id": "7b5c1a85",
   "metadata": {},
   "source": [
    "## Anderson-Darling Test\n",
    "Tests whether a data sample has a Gaussian distribution.\n",
    "\n",
    "**Assumptions:**\n",
    "Observations in each sample are independent and identically distributed (iid).\n",
    "\n",
    "**Interpretation:**\n",
    "- H0: the sample has a Gaussian distribution.\n",
    "- H1: the sample does not have a Gaussian distribution.\n"
   ]
  },
  {
   "cell_type": "code",
   "execution_count": 17,
   "id": "27a6b47d",
   "metadata": {},
   "outputs": [
    {
     "name": "stdout",
     "output_type": "stream",
     "text": [
      "Statistic: 0.471\n",
      "15.000: 0.570, data looks normal (fail to reject H0)\n",
      "10.000: 0.649, data looks normal (fail to reject H0)\n",
      "5.000: 0.779, data looks normal (fail to reject H0)\n",
      "2.500: 0.908, data looks normal (fail to reject H0)\n",
      "1.000: 1.080, data looks normal (fail to reject H0)\n"
     ]
    }
   ],
   "source": [
    "# Anderson-Darling Test\n",
    "from numpy.random import seed\n",
    "from numpy.random import randn\n",
    "from scipy.stats import anderson\n",
    "# seed the random number generator\n",
    "seed(1)\n",
    "# generate univariate observations\n",
    "data = sampleB\n",
    "# normality test\n",
    "result = anderson(data)\n",
    "print('Statistic: %.3f' % result.statistic)\n",
    "p = 0\n",
    "for i in range(len(result.critical_values)):\n",
    "\tsl, cv = result.significance_level[i], result.critical_values[i]\n",
    "\tif result.statistic < result.critical_values[i]:\n",
    "\t\tprint('%.3f: %.3f, data looks normal (fail to reject H0)' % (sl, cv))\n",
    "\telse:\n",
    "\t\tprint('%.3f: %.3f, data does not look normal (reject H0)' % (sl, cv))"
   ]
  },
  {
   "cell_type": "markdown",
   "id": "209117ef",
   "metadata": {},
   "source": [
    "## Sample size determination - Cochranes formula:\n",
    "\n",
    "### z-score:\n",
    "assumes normal distribution of data\n",
    "\n",
    "| Confidence level | z-score | \n",
    "| --- | --- |\n",
    "| 80% | 1.282 |\n",
    "| 90% | 1.645 |\n",
    "| 95% | 1.960 |\n",
    "| 98% | 2.326 |\n",
    "| 99% | 2.576 |\n"
   ]
  },
  {
   "cell_type": "code",
   "execution_count": 27,
   "id": "8093a631",
   "metadata": {},
   "outputs": [
    {
     "name": "stdout",
     "output_type": "stream",
     "text": [
      "number of samples when we do not have any knowledge: 384.1599999999999\n"
     ]
    }
   ],
   "source": [
    "z_score = {80:1.282, 90:1.645, 95:1.960, 98:2.326, 99:2.576}\n",
    "\n",
    "confidence_level = 95\n",
    "\n",
    "z = z_score[confidence_level]  # z-score\n",
    "p = 0.5 # maximum variability\n",
    "q = 1-p\n",
    "e = (100-confidence_level)/100\n",
    "\n",
    "n0 = (z**2 * p * q)/e**2\n",
    "print(f\"number of samples when we do not have any knowledge: {n0}\")\n"
   ]
  },
  {
   "cell_type": "code",
   "execution_count": 28,
   "id": "d18bfb4c",
   "metadata": {},
   "outputs": [
    {
     "name": "stdout",
     "output_type": "stream",
     "text": [
      "number of samples when the std deviation is 0.0013165129429564876: 2.020343134491305\n"
     ]
    }
   ],
   "source": [
    "# when the standard deviation is known\n",
    "sigma = df_sampleD.std()\n",
    "\n",
    "n0 = z**2 * sigma * (1-sigma) /  e**2\n",
    "print(f\"number of samples when the std deviation is {sigma}: {n0}\")"
   ]
  },
  {
   "cell_type": "markdown",
   "id": "b37afbdd",
   "metadata": {},
   "source": [
    "## Lavene's test\n",
    "https://pyshark.com/levenes-test-for-equality-of-variances-explained-with-python-examples/\n",
    "\n",
    "Tests whether the observations in each sample have the same variance.\n",
    "\n",
    "**Interpretation**\n",
    "- H0: The null hypothesis of Levene’s test is that all groups have equal variances.\n",
    "- H1: The alternative hypothesis of Levene’s test is that at least one pair of groups has unequal variances.\n"
   ]
  },
  {
   "cell_type": "code",
   "execution_count": 23,
   "id": "71ccb4dd",
   "metadata": {},
   "outputs": [
    {
     "name": "stdout",
     "output_type": "stream",
     "text": [
      "Lavene's test statistic: 4.237641586117139\n",
      "P-value: 0.03989732988270548\n",
      "Reject the null hypothesis: at least one pair of groups has unequal variances\n"
     ]
    }
   ],
   "source": [
    "from scipy.stats import levene\n",
    "stat, p_value = levene(sampleA, sampleB)\n",
    "\n",
    "print(f\"Lavene's test statistic: {stat}\")\n",
    "print(f\"P-value: {p_value}\")\n",
    "\n",
    "if p > 0.05:\n",
    "\tprint('Cannot reject the null hypothesis: all groups probably have equal variances')\n",
    "else:\n",
    "\tprint('Reject the null hypothesis: at least one pair of groups has unequal variances')\n"
   ]
  },
  {
   "cell_type": "markdown",
   "id": "d6db4ea5",
   "metadata": {},
   "source": [
    "# Analysis of Variance Test (ANOVA)\n",
    "Tests whether the means of two or more independent samples are significantly different.\n",
    "\n",
    "**Assumptions:**\n",
    "- Observations in each sample are independent and identically distributed (iid).\n",
    "- Observations in each sample are normally distributed.\n",
    "- Observations in each sample have the same variance.\n",
    "\n",
    "**Interpretation**\n",
    "- H0: the means of the samples are equal.\n",
    "- H1: one or more of the means of the samples are unequal."
   ]
  },
  {
   "cell_type": "code",
   "execution_count": 22,
   "id": "41f11854",
   "metadata": {},
   "outputs": [
    {
     "name": "stdout",
     "output_type": "stream",
     "text": [
      "stat=3380.867, p=0.000\n",
      "Probably different distributions\n"
     ]
    }
   ],
   "source": [
    "# Example of the Analysis of Variance Test\n",
    "from scipy.stats import f_oneway\n",
    "data1 = sampleA\n",
    "data2 = sampleB\n",
    "data3 = sampleC\n",
    "stat, p = f_oneway(data1, data2,data3)\n",
    "print('stat=%.3f, p=%.3f' % (stat, p))\n",
    "if p > 0.05:\n",
    "\tprint('Probably the same distribution')\n",
    "else:\n",
    "\tprint('Probably different distributions')"
   ]
  },
  {
   "cell_type": "markdown",
   "id": "281c7d96",
   "metadata": {},
   "source": [
    "# Effect Sizes\n",
    "A p-value can tell us whether or not there is a statistically significant difference between two groups, and an effect size can tell us the size of this difference.\n",
    "\n"
   ]
  },
  {
   "cell_type": "code",
   "execution_count": null,
   "id": "f60a490b",
   "metadata": {},
   "outputs": [],
   "source": []
  },
  {
   "cell_type": "markdown",
   "id": "486bfb52",
   "metadata": {},
   "source": [
    "## Cohen's d\n",
    "https://machinelearningmastery.com/effect-size-measures-in-python/\n",
    "\n",
    "Cohen’s d measures the difference between the mean from two Gaussian-distributed variables. It is a standard score that summarizes the difference in terms of the number of standard deviations. Because the score is standardized, there is a table for the interpretation of the result, summarized as:\n",
    "\n",
    "- Small Effect Size: d=0.20\n",
    "- Medium Effect Size: d=0.50\n",
    "- Large Effect Size: d=0.80\n"
   ]
  },
  {
   "cell_type": "code",
   "execution_count": 24,
   "id": "abe93eb0",
   "metadata": {},
   "outputs": [
    {
     "data": {
      "text/plain": [
       "5.349844414046972"
      ]
     },
     "execution_count": 24,
     "metadata": {},
     "output_type": "execute_result"
    }
   ],
   "source": [
    "\n",
    "\n",
    "# function to calculate Cohen's d for independent samples\n",
    "def cohend(d1, d2):\n",
    "\t# calculate the size of samples\n",
    "\tn1, n2 = len(d1), len(d2)\n",
    "\t# calculate the variance of the samples\n",
    "\ts1, s2 = np.var(d1, ddof=1), np.var(d2, ddof=1)\n",
    "\t# calculate the pooled standard deviation\n",
    "\ts = np.sqrt(((n1 - 1) * s1 + (n2 - 1) * s2) / (n1 + n2 - 2))\n",
    "\t# calculate the means of the samples\n",
    "\tu1, u2 = np.mean(d1), np.mean(d2)\n",
    "\t# calculate the effect size\n",
    "\treturn (u1 - u2) / s\n",
    "\n",
    "cohend(sampleA,sampleC)"
   ]
  },
  {
   "cell_type": "markdown",
   "id": "5336eee1",
   "metadata": {},
   "source": [
    "## Hedge's g\n",
    "https://www.statology.org/hedges-g/ \n",
    "\n",
    "The only difference between Cohen’s d and Hedges’ g is that Hedges’ g takes each sample size into consideration when calculating the overall effect size.\n",
    "\n",
    "Thus, it’s recommended to use Hedge’s g to calculate effect size when the two sample sizes are not equal.\n",
    "\n",
    "If the two sample sizes are equal then Hedges’ g and Cohen’s d will be the exact same value.\n",
    "\n",
    "Following is inspired by https://rowannicholls.github.io/python/statistics/effect_size.html#hedgess-g"
   ]
  },
  {
   "cell_type": "code",
   "execution_count": 26,
   "id": "e3a94c34",
   "metadata": {},
   "outputs": [
    {
     "name": "stdout",
     "output_type": "stream",
     "text": [
      "Hedges's g = -5.598\n"
     ]
    }
   ],
   "source": [
    "\n",
    "def effect_size(data_series1, data_series2):\n",
    "    data1= data_series1\n",
    "    data2= data_series2\n",
    "    \n",
    "    # degrees of freedom\n",
    "    n1 = data1.count()\n",
    "    n2 = data1.count()\n",
    "    dof = n1+n2-2\n",
    "    \n",
    "    # Variances\n",
    "    var1 = data1.var()\n",
    "    var2 = data2.var()\n",
    "\n",
    "    # Difference of the means\n",
    "    mean1 = data1.mean()\n",
    "    mean2 = data2.mean()    \n",
    "    diff_mean = mean1-mean2\n",
    "\n",
    "    # Pooled standard deviation\n",
    "    s_pooled_star = np.sqrt((((n1 - 1) * var1) + ((n2 - 1) * var2)) / dof)\n",
    "\n",
    "    # Hedges's g\n",
    "    hedgess_g = diff_mean / s_pooled_star\n",
    "\n",
    "    print(f\"Hedges's g = {hedgess_g:.3f}\")\n",
    "    \n",
    "effect_size(df_sampleC,df_sampleA)"
   ]
  },
  {
   "cell_type": "code",
   "execution_count": null,
   "id": "66e11a1e",
   "metadata": {},
   "outputs": [],
   "source": []
  }
 ],
 "metadata": {
  "kernelspec": {
   "display_name": "Python 3 (ipykernel)",
   "language": "python",
   "name": "python3"
  },
  "language_info": {
   "codemirror_mode": {
    "name": "ipython",
    "version": 3
   },
   "file_extension": ".py",
   "mimetype": "text/x-python",
   "name": "python",
   "nbconvert_exporter": "python",
   "pygments_lexer": "ipython3",
   "version": "3.8.13"
  }
 },
 "nbformat": 4,
 "nbformat_minor": 5
}
